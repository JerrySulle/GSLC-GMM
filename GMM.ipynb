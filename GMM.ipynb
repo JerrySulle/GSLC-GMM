{
 "cells": [
  {
   "cell_type": "code",
   "execution_count": 270,
   "id": "f1f145b7",
   "metadata": {},
   "outputs": [],
   "source": [
    "import numpy as np\n",
    "import pandas as pd\n",
    "import matplotlib.pyplot as plt\n",
    "import seaborn as sns"
   ]
  },
  {
   "cell_type": "code",
   "execution_count": 271,
   "id": "59ce9a3d",
   "metadata": {},
   "outputs": [],
   "source": [
    "X = [[3, 8],[3, 6],[3, 4],[4, 7],[4, 5],[5, 5],[5, 1],[7, 4],[7, 3],[8, 5]]\n",
    "X = np.array(X)"
   ]
  },
  {
   "cell_type": "code",
   "execution_count": 272,
   "id": "a9bdccd2",
   "metadata": {},
   "outputs": [],
   "source": [
    "mu = np.array([[4, 6], [7, 3]])\n",
    "#ambil titik yang mendekati\n",
    "sigma = np.array([[[0.675, 0.9], [0.9, 1.3]],[[0.675, 0.825], [0.825, 1.3]]])\n",
    "phi = np.array([5/10, 5/10])"
   ]
  },
  {
   "cell_type": "markdown",
   "id": "08713989",
   "metadata": {},
   "source": [
    "# E STEP"
   ]
  },
  {
   "cell_type": "code",
   "execution_count": 273,
   "id": "f36e5846",
   "metadata": {},
   "outputs": [],
   "source": [
    "likelihood = np.zeros( (10, 2) )\n",
    "resp = np.zeros((10,2))\n",
    "for i in range(2):\n",
    "    likelihood[:,i] = multivariate_normal.pdf(X, mu[i], sigma[i], allow_singular=True)\n",
    "    resp[:, i] = phi[i] * likelihood[:,i]\n",
    "\n",
    "log_likelihood = np.sum(np.log(np.sum(resp, axis = 1)))  "
   ]
  },
  {
   "cell_type": "code",
   "execution_count": 274,
   "id": "361d69c3",
   "metadata": {},
   "outputs": [
    {
     "name": "stdout",
     "output_type": "stream",
     "text": [
      "Log Likelihood =  -127.61840661820078\n"
     ]
    }
   ],
   "source": [
    "print(\"Log Likelihood = \", log_likelihood)"
   ]
  },
  {
   "cell_type": "code",
   "execution_count": 275,
   "id": "41723525",
   "metadata": {},
   "outputs": [
    {
     "name": "stdout",
     "output_type": "stream",
     "text": [
      "Responsibilities\n",
      "[[1.08884840e-025 2.00116146e-079]\n",
      " [2.01392475e-005 5.92331511e-053]\n",
      " [1.58248567e-002 1.94003218e-032]\n",
      " [2.06379160e-003 3.96331947e-048]\n",
      " [2.06379160e-003 2.82827158e-028]\n",
      " [2.19774721e-013 1.82233500e-017]\n",
      " [1.15949142e-088 6.60440510e-003]\n",
      " [2.61718824e-082 3.22990705e-002]\n",
      " [1.54416476e-110 1.79347303e-001]\n",
      " [1.73289918e-093 3.03120823e-002]]\n"
     ]
    }
   ],
   "source": [
    "print(\"Responsibilities\")\n",
    "print(resp)"
   ]
  },
  {
   "cell_type": "markdown",
   "id": "c824522a",
   "metadata": {},
   "source": [
    "# M STEP"
   ]
  },
  {
   "cell_type": "code",
   "execution_count": 276,
   "id": "d1a253a2",
   "metadata": {},
   "outputs": [],
   "source": [
    "def mstep(iters, mu, sigma, phi, resp):\n",
    "    for x in range (iters):\n",
    "        for i in range(2):\n",
    "            weight = resp[:, [i]]\n",
    "            total_weight = weight.sum()\n",
    "            mu[i] = (X * weight).sum(axis=0) / total_weight\n",
    "            sigma[i] = np.cov(X.T, aweights=(weight/total_weight).flatten(), bias=True)\n",
    "\n",
    "        phi = resp.mean(axis=0)\n",
    "        print (\"Iteration \", x+1,  \"Means = \\n\")\n",
    "        print(phi)\n",
    "        print (\"\\nIteration \", x+1,  \"Covariance :\\n\")\n",
    "        print(mu)\n",
    "        print(\"\\nIteration \", x+1,  \"Density :\\n\")\n",
    "        print(sigma)\n",
    "\n",
    "        for i in range(2):\n",
    "            likelihood[:,i] = multivariate_normal.pdf(X, mu[i], \t\t\t\tsigma[i], allow_singular=True)\n",
    "            resp[:, i] = phi[i] * likelihood[:,i]\n",
    "\n",
    "        log_likelihood = np.sum(np.log(np.sum(resp, axis = 1)))\n",
    "\n",
    "        # normalize over all possible cluster assignments\n",
    "        resp = resp / resp.sum(axis = 1, keepdims = 1) \n",
    "        \n",
    "        print(\"\\nIteration \", x+1,  \"Log Likelihood :\\n\")\n",
    "        print(log_likelihood)\n",
    "        \n",
    "        print(\"\\n+++++++++++++++++++++++++++++++++++++++++++++\\n\")\n",
    "    \n",
    "    return mu, sigma, phi, resp, log_likelihood\n"
   ]
  },
  {
   "cell_type": "code",
   "execution_count": 277,
   "id": "9ef1bd2c",
   "metadata": {},
   "outputs": [
    {
     "name": "stdout",
     "output_type": "stream",
     "text": [
      "Iteration  1 Means = \n",
      "\n",
      "[0.00199726 0.02485629]\n",
      "\n",
      "Iteration  1 Covariance :\n",
      "\n",
      "[[3 4]\n",
      " [7 3]]\n",
      "\n",
      "Iteration  1 Density :\n",
      "\n",
      "[[[0.16395311 0.32748945]\n",
      "  [0.32748945 0.86483717]]\n",
      "\n",
      " [[0.22349618 0.32811315]\n",
      "  [0.32811315 0.62117286]]]\n",
      "\n",
      "Iteration  1 Log Likelihood :\n",
      "\n",
      "-164.14035063700916\n",
      "\n",
      "+++++++++++++++++++++++++++++++++++++++++++++\n",
      "\n",
      "Iteration  2 Means = \n",
      "\n",
      "[0.6 0.4]\n",
      "\n",
      "Iteration  2 Covariance :\n",
      "\n",
      "[[3 5]\n",
      " [6 3]]\n",
      "\n",
      "Iteration  2 Density :\n",
      "\n",
      "[[[ 0.55555556 -0.22222222]\n",
      "  [-0.22222222  1.80555556]]\n",
      "\n",
      " [[ 1.1875      1.5625    ]\n",
      "  [ 1.5625      2.1875    ]]]\n",
      "\n",
      "Iteration  2 Log Likelihood :\n",
      "\n",
      "-44.96073595674199\n",
      "\n",
      "+++++++++++++++++++++++++++++++++++++++++++++\n",
      "\n",
      "Iteration  3 Means = \n",
      "\n",
      "[0.60078832 0.39921168]\n",
      "\n",
      "Iteration  3 Covariance :\n",
      "\n",
      "[[3 5]\n",
      " [6 3]]\n",
      "\n",
      "Iteration  3 Density :\n",
      "\n",
      "[[[ 0.55770696 -0.23055186]\n",
      "  [-0.23055186  1.83289495]]\n",
      "\n",
      " [[ 1.1840533   1.55815153]\n",
      "  [ 1.55815153  2.1822488 ]]]\n",
      "\n",
      "Iteration  3 Log Likelihood :\n",
      "\n",
      "-44.95109762238216\n",
      "\n",
      "+++++++++++++++++++++++++++++++++++++++++++++\n",
      "\n"
     ]
    }
   ],
   "source": [
    "mean, covariance, density, resp ,log= mstep(3,mu,sigma,phi,resp)"
   ]
  },
  {
   "cell_type": "code",
   "execution_count": 278,
   "id": "cae35f62",
   "metadata": {},
   "outputs": [
    {
     "name": "stdout",
     "output_type": "stream",
     "text": [
      "New Means :\n",
      "\n",
      "[[3 5]\n",
      " [6 3]]\n",
      "\n",
      "New Covariances :\n",
      "\n",
      "[[[ 0.55770696 -0.23055186]\n",
      "  [-0.23055186  1.83289495]]\n",
      "\n",
      " [[ 1.1840533   1.55815153]\n",
      "  [ 1.55815153  2.1822488 ]]]\n",
      "\n",
      "New Density :\n",
      "\n",
      "[0.60078832 0.39921168]\n",
      "\n",
      "New Log Likelihood :\n",
      "\n",
      "-44.95109762238216\n"
     ]
    }
   ],
   "source": [
    "print (\"New Means :\\n\")\n",
    "print(mean)\n",
    "print (\"\\nNew Covariances :\\n\")\n",
    "print(covariance)\n",
    "print (\"\\nNew Density :\\n\")\n",
    "print(density)\n",
    "print (\"\\nNew Log Likelihood :\\n\")\n",
    "print(log)"
   ]
  },
  {
   "cell_type": "code",
   "execution_count": 279,
   "id": "b6412a4e",
   "metadata": {},
   "outputs": [
    {
     "data": {
      "text/plain": [
       "[0, 0, 0, 0, 0, 0, 1, 1, 1, 1]"
      ]
     },
     "execution_count": 279,
     "metadata": {},
     "output_type": "execute_result"
    }
   ],
   "source": [
    "labels = []\n",
    "\n",
    "for i in range(len(resp)):\n",
    "  if(resp[i][0] >= resp[i][1]):\n",
    "    labels.append(0)\n",
    "  else:\n",
    "    labels.append(1)\n",
    "\n",
    "labels"
   ]
  },
  {
   "cell_type": "code",
   "execution_count": 280,
   "id": "48dea90b",
   "metadata": {},
   "outputs": [
    {
     "data": {
      "text/plain": [
       "<AxesSubplot:xlabel='x1', ylabel='x2'>"
      ]
     },
     "execution_count": 280,
     "metadata": {},
     "output_type": "execute_result"
    },
    {
     "data": {
      "image/png": "[encoded data removed]",
      "text/plain": [
       "<Figure size 432x288 with 1 Axes>"
      ]
     },
     "metadata": {
      "needs_background": "light"
     },
     "output_type": "display_data"
    }
   ],
   "source": [
    "df = pd.DataFrame({'x1': X[:, 0],'x2': X[:, 1],'Y': labels})\n",
    "\n",
    "sns.scatterplot(data=df, x='x1', y='x2', hue='Y')"
   ]
  },
  {
   "cell_type": "code",
   "execution_count": null,
   "id": "402fbedb",
   "metadata": {},
   "outputs": [],
   "source": []
  }
 ],
 "metadata": {
  "kernelspec": {
   "display_name": "Python 3 (ipykernel)",
   "language": "python",
   "name": "python3"
  },
  "language_info": {
   "codemirror_mode": {
    "name": "ipython",
    "version": 3
   },
   "file_extension": ".py",
   "mimetype": "text/x-python",
   "name": "python",
   "nbconvert_exporter": "python",
   "pygments_lexer": "ipython3",
   "version": "3.9.7"
  }
 },
 "nbformat": 4,
 "nbformat_minor": 5
}
